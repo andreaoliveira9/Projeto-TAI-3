{
 "cells": [
  {
   "cell_type": "markdown",
   "metadata": {},
   "source": [
    "# Definitions"
   ]
  },
  {
   "cell_type": "code",
   "execution_count": 7,
   "metadata": {},
   "outputs": [],
   "source": [
    "import os\n",
    "import subprocess\n",
    "import glob\n",
    "\n",
    "DB_PATH = \"database\"\n",
    "MUSICS_PATH = \"demo_music\"\n",
    "SEGMENT_PATH = \"demo_segments\"\n"
   ]
  },
  {
   "cell_type": "markdown",
   "metadata": {},
   "source": [
    "### Convert all music files to frequency representations"
   ]
  },
  {
   "cell_type": "code",
   "execution_count": 8,
   "metadata": {},
   "outputs": [
    {
     "name": "stdout",
     "output_type": "stream",
     "text": [
      "Processing Avicii - AVICII FOREVER (360° Visualizer).wav...\n",
      "✅ Successfully processed 1/1 files\n"
     ]
    }
   ],
   "source": [
    "!python main.py process_db {MUSICS_PATH}\n",
    "\n",
    "# move .wav files to directory database\n",
    "for file in glob.glob(os.path.join(MUSICS_PATH, \"*.freq\")):\n",
    "    subprocess.run([\"mv\", file, DB_PATH])"
   ]
  },
  {
   "cell_type": "markdown",
   "metadata": {},
   "source": [
    "### [Optional] Extract segments from a song"
   ]
  },
  {
   "cell_type": "code",
   "execution_count": 9,
   "metadata": {},
   "outputs": [
    {
     "name": "stdout",
     "output_type": "stream",
     "text": [
      "Extracted 10.0s segment to demo_segments/Avicii - AVICII FOREVER (360° Visualizer)_segment.wav\n"
     ]
    }
   ],
   "source": [
    "musics = [music for music in os.listdir(MUSICS_PATH) if music.endswith('.wav')]\n",
    "\n",
    "# extract segments from each music\n",
    "for music in musics:\n",
    "    input_file = os.path.join(MUSICS_PATH, music)\n",
    "    output_file = os.path.join(SEGMENT_PATH, f\"{music.split('.')[0]}_segment.wav\")\n",
    "    subprocess.run([\"python\", \"main.py\", \"extract\", input_file, \"-d\", \"10\", \"-o\", output_file])"
   ]
  },
  {
   "cell_type": "markdown",
   "metadata": {},
   "source": [
    "### [Optional] Adding noise to music segments"
   ]
  },
  {
   "cell_type": "code",
   "execution_count": 10,
   "metadata": {},
   "outputs": [
    {
     "name": "stdout",
     "output_type": "stream",
     "text": [
      "['Avicii - AVICII FOREVER (360° Visualizer)_segment.wav']\n",
      "Added whitenoise (level 0.4) to demo_segments/Avicii - AVICII FOREVER (360° Visualizer)_segment.wav using librosa, saved as demo_segments/Avicii - AVICII FOREVER (360° Visualizer)_segment_noisy.wav\n"
     ]
    }
   ],
   "source": [
    "musics = [music for music in os.listdir(SEGMENT_PATH) if music.endswith('.wav')]\n",
    "\n",
    "print(musics)\n",
    "\n",
    "noise_type = \"whitenoise\"\n",
    "noise_level = \"0.4\"\n",
    "\n",
    "for music in musics:\n",
    "    input_file = os.path.join(SEGMENT_PATH, music)\n",
    "    output_file = os.path.join(SEGMENT_PATH, f\"{music.split('.')[0]}_noisy.wav\")\n",
    "    subprocess.run([\"python\", \"main.py\", \"noise\", input_file, \"--type\", noise_type, \"--level\", noise_level, \"-o\", output_file])"
   ]
  },
  {
   "cell_type": "markdown",
   "metadata": {},
   "source": [
    "### Convert music segments to frequency representations"
   ]
  },
  {
   "cell_type": "code",
   "execution_count": 11,
   "metadata": {},
   "outputs": [
    {
     "name": "stdout",
     "output_type": "stream",
     "text": [
      "Converted demo_segments/Avicii - AVICII FOREVER (360° Visualizer)_segment.wav to frequency representation at demo_segments/Avicii - AVICII FOREVER (360° Visualizer)_segment.freq\n",
      "Converted demo_segments/Avicii - AVICII FOREVER (360° Visualizer)_segment_noisy.wav to frequency representation at demo_segments/Avicii - AVICII FOREVER (360° Visualizer)_segment_noisy.freq\n"
     ]
    }
   ],
   "source": [
    "musics = [music for music in os.listdir(SEGMENT_PATH) if music.endswith('.wav')]\n",
    "\n",
    "for music in musics:\n",
    "    input_file = os.path.join(SEGMENT_PATH, music)\n",
    "    output_file = os.path.join(SEGMENT_PATH, f\"{music.split('.')[0]}.freq\")\n",
    "    subprocess.run([\"python\", \"main.py\", \"convert\", input_file, \"-o\", output_file])"
   ]
  },
  {
   "cell_type": "markdown",
   "metadata": {},
   "source": [
    "### Identifying music"
   ]
  },
  {
   "cell_type": "code",
   "execution_count": 12,
   "metadata": {},
   "outputs": [
    {
     "name": "stdout",
     "output_type": "stream",
     "text": [
      "Identifying music segments...\n",
      "\n",
      "Identifying Avicii - AVICII FOREVER (360° Visualizer)_segment.freq...\n",
      "Comparing demo_segments/Avicii - AVICII FOREVER (360° Visualizer)_segment.freq with 64 database files using gzip...\n",
      "  Martin Garrix & Arijit Singh - Angels For Each Other (Official Video): 1.0000\n",
      "  MC Levin e DJ Gege - Sua Amiga Eu Vou Sarrar (kondzilla.com): 1.0000\n",
      "  Dennis e Kevin O Chris - TÁ OK (Clipe Oficial): 0.9946\n",
      "  MC Kevinho - Olha a Explosão (KondZilla) ｜ Official Music Video: 0.9978\n",
      "  Galantis - No Money (Official Video): 0.9952\n",
      "  Alex Warren - Ordinary (Official Video): 0.9910\n",
      "  FRANKIEONTHEGUITAR ft. IVANDRO, SLOW J ~ Imagina: 1.0000\n",
      "  That's Life (2008 Remastered): 1.0000\n",
      "  Luke Combs - One Number Away: 0.9984\n",
      "  AC⧸DC - Thunderstruck (Official Video): 0.9978\n",
      "  Lady Gaga, Bruno Mars - Die With A Smile (Official Music Video): 0.9927\n",
      "  In The End [Official HD Music Video] - Linkin Park: 0.9932\n",
      "  Morgan Wallen - Love Somebody (Lyric Video): 0.9922\n",
      "  Louis Armstrong - What A Wonderful World (At The BBC): 0.9934\n",
      "  David Guetta & Sia - Beautiful People (Official Video): 0.9776\n",
      "  Jelly Roll - Liar (Official Music Video): 1.0000\n",
      "  MC L Da Vinte e MC Gury - Parado no Bailão  (Funk Explode): 0.9936\n",
      "  Mike Posner - I Took A Pill In Ibiza (Seeb Remix) (Explicit): 0.9903\n",
      "  Metallica - One: 1.0000\n",
      "  Sabrina Carpenter - Espresso (Clean): 0.9956\n",
      "  Dave Brubeck - Take Five: 1.0000\n",
      "  So What - Miles Davis (1959): 0.9975\n",
      "  ROSÉ & Bruno Mars - APT. (Official Music Video): 0.9925\n",
      "  Koe Wetzel, Jessie Murph - High Road (Official Video): 0.9959\n",
      "  mgk - cliché (Official Music Video): 0.9868\n",
      "  Slipknot - Wait And Bleed [OFFICIAL VIDEO] [HD]: 0.9974\n",
      "  Motörhead – Ace Of Spades (Official Video): 1.0000\n",
      "  Steppenwolf - Born To Be Wild: 0.9990\n",
      "  jingle.tm - remix ｜ LON3R JOHNY, Richie Campbell, Plutonio, ProfJam, Van Zee, Lhast: 0.9792\n",
      "  David Guetta - Bang My Head (Official Video) feat Sia & Fetty Wap: 0.9846\n",
      "  Stand By Me: 1.0000\n",
      "  Benson Boone - Beautiful Things (Official Music Video): 0.9912\n",
      "  Cody Johnson - 'Til You Can't (Official Music Video): 0.9918\n",
      "  LON3R JOHNY × PLUTONIO - UH LA LA LA: 0.9995\n",
      "  Anitta, Mc Zaac, Maejor feat. Tropkillaz & DJ Yuri Martins - Vai Malandra [Official Music Video]: 0.9831\n",
      "  Sade - Smooth Operator - Official - 1984: 0.9991\n",
      "  Fly Me To The Moon (2008 Remastered): 0.9932\n",
      "  MC Fioti - Bum Bum Tam Tam (KondZilla) ｜ Official Music Video: 0.9953\n",
      "  T.I. - Whatever You Like (Official Video): 0.9976\n",
      "  Queen - We Will Rock You (Official Video): 0.9949\n",
      "  Gracie Abrams - That's So True (Clean - Lyrics): 0.9988\n",
      "  Miles Davis - Freddie Freeloader (Official Audio): 0.9952\n",
      "  Luke Combs - When It Rains It Pours (Official Video): 0.9976\n",
      "  Megadeth - Holy Wars...The Punishment Due: 0.9961\n",
      "  Beyoncé - Drunk in Love (Explicit) ft. JAY Z: 0.9964\n",
      "  Guns N' Roses - Sweet Child O' Mine (Official Music Video): 0.9957\n",
      "  David Guetta, Alphaville & Ava Max - Forever Young (Official Music Video): 0.9862\n",
      "  PEDRO SAMPAIO, ANITTA, MC GW - BOTA UM FUNK: 0.9915\n",
      "  Metallica-Master Of Puppets (Lyrics): 0.9972\n",
      "  Nirvana - Smells Like Teen Spirit (Official Music Video): 0.9950\n",
      "  FRANKIEONTHEGUITAR ft. T-Rex, LON3R JOHNY, BISPO ~ Tempo (Visualizer): 0.9987\n",
      "  Post Malone - I Had Some Help (feat. Morgan Wallen) (Official Video): 0.9903\n",
      "  MÃE SOLTEIRA - MC Davi, J.Eskine, MC G15, DG e Batidão Stronda: 0.9868\n",
      "  R.E.M. - Losing My Religion (Official HD Music Video): 0.9972\n",
      "  The Police - Every Breath You Take (Official Music Video): 0.9922\n",
      "  Jeremih - Down On Me ft. 50 Cent: 0.9924\n",
      "  Dimitri Vegas & Like Mike & W&W & Marnik – Yeah (Official Music Video): 0.9850\n",
      "  Avicii - AVICII FOREVER (360° Visualizer): 0.9762\n",
      "  Morgan Wallen - Lies Lies Lies (Lyric Video): 0.9979\n",
      "  Metallica： Enter Sandman (Official Music Video): 0.9885\n",
      "  Miley Cyrus - Flowers (Official Lyric Video): 0.9939\n",
      "  Bon Jovi - Livin' On A Prayer: 0.9982\n",
      "  Black Sabbath - Paranoid (Official Audio): 0.9933\n",
      "  Wet Bed Gang - Perseus (Vídeo Oficial) Prod. Charlie Beats: 0.9929\n",
      "\n",
      "Top 5 candidates:\n",
      "1. Avicii - AVICII FOREVER (360° Visualizer) - NCD: 0.9762\n",
      "2. David Guetta & Sia - Beautiful People (Official Video) - NCD: 0.9776\n",
      "3. jingle.tm - remix ｜ LON3R JOHNY, Richie Campbell, Plutonio, ProfJam, Van Zee, Lhast - NCD: 0.9792\n",
      "4. Anitta, Mc Zaac, Maejor feat. Tropkillaz & DJ Yuri Martins - Vai Malandra [Official Music Video] - NCD: 0.9831\n",
      "5. David Guetta - Bang My Head (Official Video) feat Sia & Fetty Wap - NCD: 0.9846\n",
      "\n",
      "Identifying Avicii - AVICII FOREVER (360° Visualizer)_segment_noisy.freq...\n",
      "Comparing demo_segments/Avicii - AVICII FOREVER (360° Visualizer)_segment_noisy.freq with 64 database files using gzip...\n",
      "  Martin Garrix & Arijit Singh - Angels For Each Other (Official Video): 1.0000\n",
      "  MC Levin e DJ Gege - Sua Amiga Eu Vou Sarrar (kondzilla.com): 0.9979\n",
      "  Dennis e Kevin O Chris - TÁ OK (Clipe Oficial): 0.9911\n",
      "  MC Kevinho - Olha a Explosão (KondZilla) ｜ Official Music Video: 0.9956\n",
      "  Galantis - No Money (Official Video): 0.9934\n",
      "  Alex Warren - Ordinary (Official Video): 0.9903\n",
      "  FRANKIEONTHEGUITAR ft. IVANDRO, SLOW J ~ Imagina: 1.0000\n",
      "  That's Life (2008 Remastered): 1.0000\n",
      "  Luke Combs - One Number Away: 0.9968\n",
      "  AC⧸DC - Thunderstruck (Official Video): 0.9958\n",
      "  Lady Gaga, Bruno Mars - Die With A Smile (Official Music Video): 0.9915\n",
      "  In The End [Official HD Music Video] - Linkin Park: 0.9916\n",
      "  Morgan Wallen - Love Somebody (Lyric Video): 0.9907\n",
      "  Louis Armstrong - What A Wonderful World (At The BBC): 0.9913\n",
      "  David Guetta & Sia - Beautiful People (Official Video): 0.9768\n",
      "  Jelly Roll - Liar (Official Music Video): 0.9997\n",
      "  MC L Da Vinte e MC Gury - Parado no Bailão  (Funk Explode): 0.9917\n",
      "  Mike Posner - I Took A Pill In Ibiza (Seeb Remix) (Explicit): 0.9900\n",
      "  Metallica - One: 1.0000\n",
      "  Sabrina Carpenter - Espresso (Clean): 0.9944\n",
      "  Dave Brubeck - Take Five: 0.9985\n",
      "  So What - Miles Davis (1959): 0.9969\n",
      "  ROSÉ & Bruno Mars - APT. (Official Music Video): 0.9906\n",
      "  Koe Wetzel, Jessie Murph - High Road (Official Video): 0.9939\n",
      "  mgk - cliché (Official Music Video): 0.9851\n",
      "  Slipknot - Wait And Bleed [OFFICIAL VIDEO] [HD]: 0.9951\n",
      "  Motörhead – Ace Of Spades (Official Video): 1.0000\n",
      "  Steppenwolf - Born To Be Wild: 0.9968\n",
      "  jingle.tm - remix ｜ LON3R JOHNY, Richie Campbell, Plutonio, ProfJam, Van Zee, Lhast: 0.9769\n",
      "  David Guetta - Bang My Head (Official Video) feat Sia & Fetty Wap: 0.9840\n",
      "  Stand By Me: 1.0000\n",
      "  Benson Boone - Beautiful Things (Official Music Video): 0.9901\n",
      "  Cody Johnson - 'Til You Can't (Official Music Video): 0.9908\n",
      "  LON3R JOHNY × PLUTONIO - UH LA LA LA: 0.9970\n",
      "  Anitta, Mc Zaac, Maejor feat. Tropkillaz & DJ Yuri Martins - Vai Malandra [Official Music Video]: 0.9814\n",
      "  Sade - Smooth Operator - Official - 1984: 0.9979\n",
      "  Fly Me To The Moon (2008 Remastered): 0.9912\n",
      "  MC Fioti - Bum Bum Tam Tam (KondZilla) ｜ Official Music Video: 0.9934\n",
      "  T.I. - Whatever You Like (Official Video): 0.9966\n",
      "  Queen - We Will Rock You (Official Video): 0.9933\n",
      "  Gracie Abrams - That's So True (Clean - Lyrics): 0.9964\n",
      "  Miles Davis - Freddie Freeloader (Official Audio): 0.9947\n",
      "  Luke Combs - When It Rains It Pours (Official Video): 0.9962\n",
      "  Megadeth - Holy Wars...The Punishment Due: 0.9953\n",
      "  Beyoncé - Drunk in Love (Explicit) ft. JAY Z: 0.9948\n",
      "  Guns N' Roses - Sweet Child O' Mine (Official Music Video): 0.9950\n",
      "  David Guetta, Alphaville & Ava Max - Forever Young (Official Music Video): 0.9850\n",
      "  PEDRO SAMPAIO, ANITTA, MC GW - BOTA UM FUNK: 0.9891\n",
      "  Metallica-Master Of Puppets (Lyrics): 0.9963\n",
      "  Nirvana - Smells Like Teen Spirit (Official Music Video): 0.9935\n",
      "  FRANKIEONTHEGUITAR ft. T-Rex, LON3R JOHNY, BISPO ~ Tempo (Visualizer): 0.9979\n",
      "  Post Malone - I Had Some Help (feat. Morgan Wallen) (Official Video): 0.9887\n",
      "  MÃE SOLTEIRA - MC Davi, J.Eskine, MC G15, DG e Batidão Stronda: 0.9847\n",
      "  R.E.M. - Losing My Religion (Official HD Music Video): 0.9962\n",
      "  The Police - Every Breath You Take (Official Music Video): 0.9901\n",
      "  Jeremih - Down On Me ft. 50 Cent: 0.9914\n",
      "  Dimitri Vegas & Like Mike & W&W & Marnik – Yeah (Official Music Video): 0.9826\n",
      "  Avicii - AVICII FOREVER (360° Visualizer): 0.9792\n",
      "  Morgan Wallen - Lies Lies Lies (Lyric Video): 0.9966\n",
      "  Metallica： Enter Sandman (Official Music Video): 0.9876\n",
      "  Miley Cyrus - Flowers (Official Lyric Video): 0.9928\n",
      "  Bon Jovi - Livin' On A Prayer: 0.9964\n",
      "  Black Sabbath - Paranoid (Official Audio): 0.9904\n",
      "  Wet Bed Gang - Perseus (Vídeo Oficial) Prod. Charlie Beats: 0.9922\n",
      "\n",
      "Top 5 candidates:\n",
      "1. David Guetta & Sia - Beautiful People (Official Video) - NCD: 0.9768\n",
      "2. jingle.tm - remix ｜ LON3R JOHNY, Richie Campbell, Plutonio, ProfJam, Van Zee, Lhast - NCD: 0.9769\n",
      "3. Avicii - AVICII FOREVER (360° Visualizer) - NCD: 0.9792\n",
      "4. Anitta, Mc Zaac, Maejor feat. Tropkillaz & DJ Yuri Martins - Vai Malandra [Official Music Video] - NCD: 0.9814\n",
      "5. Dimitri Vegas & Like Mike & W&W & Marnik – Yeah (Official Music Video) - NCD: 0.9826\n"
     ]
    }
   ],
   "source": [
    "compressor = \"gzip\" \n",
    "\n",
    "segment_files = glob.glob(os.path.join(SEGMENT_PATH, \"*.freq\"))\n",
    "\n",
    "print(\"Identifying music segments...\")\n",
    "for segment_file in segment_files:\n",
    "    segment_name = os.path.basename(segment_file)\n",
    "    print(f\"\\nIdentifying {segment_name}...\")\n",
    "    subprocess.run([\"python\", \"main.py\", \"compare\", segment_file, \"-c\", compressor, \"-n\", \"5\"])"
   ]
  }
 ],
 "metadata": {
  "kernelspec": {
   "display_name": "venv",
   "language": "python",
   "name": "python3"
  },
  "language_info": {
   "codemirror_mode": {
    "name": "ipython",
    "version": 3
   },
   "file_extension": ".py",
   "mimetype": "text/x-python",
   "name": "python",
   "nbconvert_exporter": "python",
   "pygments_lexer": "ipython3",
   "version": "3.12.11"
  }
 },
 "nbformat": 4,
 "nbformat_minor": 2
}
