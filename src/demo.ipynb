{
 "cells": [
  {
   "cell_type": "markdown",
   "metadata": {},
   "source": [
    "# Definitions"
   ]
  },
  {
   "cell_type": "code",
   "execution_count": 36,
   "metadata": {},
   "outputs": [],
   "source": [
    "import os\n",
    "import subprocess\n",
    "import glob\n",
    "\n",
    "\n",
    "DB_PATH = \"demo_musics\"\n",
    "SEGMENT_PATH = \"demo_segments\"\n"
   ]
  },
  {
   "cell_type": "markdown",
   "metadata": {},
   "source": [
    "### Convert all music files to frequency representations"
   ]
  },
  {
   "cell_type": "code",
   "execution_count": 37,
   "metadata": {},
   "outputs": [
    {
     "name": "stdout",
     "output_type": "stream",
     "text": [
      "Processing Cody Johnson - 'Til You Can't (Official Music Video).wav...\n",
      "✅ Successfully processed 1/1 files\n"
     ]
    }
   ],
   "source": [
    "!python main.py process_db {DB_PATH}"
   ]
  },
  {
   "cell_type": "markdown",
   "metadata": {},
   "source": [
    "### [Optional] Extract segments from a song"
   ]
  },
  {
   "cell_type": "code",
   "execution_count": 38,
   "metadata": {},
   "outputs": [
    {
     "name": "stdout",
     "output_type": "stream",
     "text": [
      "Extracted 10.0s segment to demo_segments/Cody Johnson - 'Til You Can't (Official Music Video)_segment.wav\n"
     ]
    }
   ],
   "source": [
    "musics = [music for music in os.listdir(DB_PATH) if music.endswith('.wav')]\n",
    "\n",
    "# extract segments from each music\n",
    "for music in musics:\n",
    "    input_file = os.path.join(DB_PATH, music)\n",
    "    output_file = os.path.join(SEGMENT_PATH, f\"{music.split('.')[0]}_segment.wav\")\n",
    "    subprocess.run([\"python\", \"main.py\", \"extract\", input_file, \"-d\", \"10\", \"-o\", output_file])"
   ]
  },
  {
   "cell_type": "markdown",
   "metadata": {},
   "source": [
    "### [Optional] Adding noise to music segments"
   ]
  },
  {
   "cell_type": "code",
   "execution_count": 39,
   "metadata": {},
   "outputs": [
    {
     "name": "stdout",
     "output_type": "stream",
     "text": [
      "[\"Cody Johnson - 'Til You Can't (Official Music Video)_segment.wav\"]\n",
      "Added whitenoise (level 0.4) to demo_segments/Cody Johnson - 'Til You Can't (Official Music Video)_segment.wav using librosa, saved as demo_segments/Cody Johnson - 'Til You Can't (Official Music Video)_segment_noisy.wav\n"
     ]
    }
   ],
   "source": [
    "musics = [music for music in os.listdir(SEGMENT_PATH) if music.endswith('.wav')]\n",
    "\n",
    "print(musics)\n",
    "\n",
    "noise_type = \"whitenoise\"\n",
    "noise_level = \"0.4\"\n",
    "\n",
    "for music in musics:\n",
    "    input_file = os.path.join(SEGMENT_PATH, music)\n",
    "    output_file = os.path.join(SEGMENT_PATH, f\"{music.split('.')[0]}_noisy.wav\")\n",
    "    subprocess.run([\"python\", \"main.py\", \"noise\", input_file, \"--type\", noise_type, \"--level\", noise_level, \"-o\", output_file])"
   ]
  },
  {
   "cell_type": "markdown",
   "metadata": {},
   "source": [
    "### Convert music segments to frequency representations"
   ]
  },
  {
   "cell_type": "code",
   "execution_count": 40,
   "metadata": {},
   "outputs": [
    {
     "name": "stdout",
     "output_type": "stream",
     "text": [
      "Converted demo_segments/Cody Johnson - 'Til You Can't (Official Music Video)_segment_noisy.wav to frequency representation at demo_segments/Cody Johnson - 'Til You Can't (Official Music Video)_segment_noisy.freq\n",
      "Converted demo_segments/Cody Johnson - 'Til You Can't (Official Music Video)_segment.wav to frequency representation at demo_segments/Cody Johnson - 'Til You Can't (Official Music Video)_segment.freq\n"
     ]
    }
   ],
   "source": [
    "musics = [music for music in os.listdir(SEGMENT_PATH) if music.endswith('.wav')]\n",
    "\n",
    "for music in musics:\n",
    "    input_file = os.path.join(SEGMENT_PATH, music)\n",
    "    output_file = os.path.join(SEGMENT_PATH, f\"{music.split('.')[0]}.freq\")\n",
    "    subprocess.run([\"python\", \"main.py\", \"convert\", input_file, \"-o\", output_file])"
   ]
  },
  {
   "cell_type": "markdown",
   "metadata": {},
   "source": [
    "### [Optional] Adding noise to music segments"
   ]
  },
  {
   "cell_type": "code",
   "execution_count": 41,
   "metadata": {},
   "outputs": [
    {
     "name": "stdout",
     "output_type": "stream",
     "text": [
      "Identifying music segments...\n",
      "\n",
      "Identifying Cody Johnson - 'Til You Can't (Official Music Video)_segment.freq...\n",
      "Comparing demo_segments/Cody Johnson - 'Til You Can't (Official Music Video)_segment.freq with 64 database files using gzip...\n",
      "  Martin Garrix & Arijit Singh - Angels For Each Other (Official Video): 1.0000\n",
      "  MC Levin e DJ Gege - Sua Amiga Eu Vou Sarrar (kondzilla.com): 1.0000\n",
      "  Dennis e Kevin O Chris - TÁ OK (Clipe Oficial): 0.9903\n",
      "  MC Kevinho - Olha a Explosão (KondZilla) ｜ Official Music Video: 0.9912\n",
      "  Galantis - No Money (Official Video): 0.9988\n",
      "  Alex Warren - Ordinary (Official Video): 1.0000\n",
      "  FRANKIEONTHEGUITAR ft. IVANDRO, SLOW J ~ Imagina: 1.0000\n",
      "  That's Life (2008 Remastered): 1.0000\n",
      "  Luke Combs - One Number Away: 1.0000\n",
      "  AC⧸DC - Thunderstruck (Official Video): 1.0000\n",
      "  Lady Gaga, Bruno Mars - Die With A Smile (Official Music Video): 0.9952\n",
      "  In The End [Official HD Music Video] - Linkin Park: 0.9877\n",
      "  Morgan Wallen - Love Somebody (Lyric Video): 0.9887\n",
      "  Louis Armstrong - What A Wonderful World (At The BBC): 0.9906\n",
      "  David Guetta & Sia - Beautiful People (Official Video): 0.9970\n",
      "  Jelly Roll - Liar (Official Music Video): 0.9925\n",
      "  MC L Da Vinte e MC Gury - Parado no Bailão  (Funk Explode): 0.9954\n",
      "  Mike Posner - I Took A Pill In Ibiza (Seeb Remix) (Explicit): 0.9932\n",
      "  Metallica - One: 0.9999\n",
      "  Sabrina Carpenter - Espresso (Clean): 1.0000\n",
      "  Dave Brubeck - Take Five: 1.0000\n",
      "  So What - Miles Davis (1959): 0.9991\n",
      "  ROSÉ & Bruno Mars - APT. (Official Music Video): 0.9896\n",
      "  Koe Wetzel, Jessie Murph - High Road (Official Video): 0.9893\n",
      "  mgk - cliché (Official Music Video): 1.0000\n",
      "  Slipknot - Wait And Bleed [OFFICIAL VIDEO] [HD]: 1.0000\n",
      "  Motörhead – Ace Of Spades (Official Video): 1.0000\n",
      "  Steppenwolf - Born To Be Wild: 1.0000\n",
      "  jingle.tm - remix ｜ LON3R JOHNY, Richie Campbell, Plutonio, ProfJam, Van Zee, Lhast: 0.9785\n",
      "  David Guetta - Bang My Head (Official Video) feat Sia & Fetty Wap: 0.9913\n",
      "  Stand By Me: 1.0000\n",
      "  Benson Boone - Beautiful Things (Official Music Video): 0.9995\n",
      "  Cody Johnson - 'Til You Can't (Official Music Video): 0.9686\n",
      "  LON3R JOHNY × PLUTONIO - UH LA LA LA: 1.0000\n",
      "  Anitta, Mc Zaac, Maejor feat. Tropkillaz & DJ Yuri Martins - Vai Malandra [Official Music Video]: 0.9862\n",
      "  Sade - Smooth Operator - Official - 1984: 1.0000\n",
      "  Fly Me To The Moon (2008 Remastered): 0.9943\n",
      "  MC Fioti - Bum Bum Tam Tam (KondZilla) ｜ Official Music Video: 1.0000\n",
      "  T.I. - Whatever You Like (Official Video): 0.9926\n",
      "  Queen - We Will Rock You (Official Video): 1.0000\n",
      "  Gracie Abrams - That's So True (Clean - Lyrics): 0.9776\n",
      "  Miles Davis - Freddie Freeloader (Official Audio): 0.9972\n",
      "  Luke Combs - When It Rains It Pours (Official Video): 0.9906\n",
      "  Megadeth - Holy Wars...The Punishment Due: 0.9977\n",
      "  Beyoncé - Drunk in Love (Explicit) ft. JAY Z: 0.9944\n",
      "  Guns N' Roses - Sweet Child O' Mine (Official Music Video): 0.9893\n",
      "  David Guetta, Alphaville & Ava Max - Forever Young (Official Music Video): 1.0000\n",
      "  PEDRO SAMPAIO, ANITTA, MC GW - BOTA UM FUNK: 0.9827\n",
      "  Metallica-Master Of Puppets (Lyrics): 1.0000\n",
      "  Nirvana - Smells Like Teen Spirit (Official Music Video): 0.9933\n",
      "  FRANKIEONTHEGUITAR ft. T-Rex, LON3R JOHNY, BISPO ~ Tempo (Visualizer): 1.0000\n",
      "  Post Malone - I Had Some Help (feat. Morgan Wallen) (Official Video): 0.9996\n",
      "  MÃE SOLTEIRA - MC Davi, J.Eskine, MC G15, DG e Batidão Stronda: 0.9936\n",
      "  R.E.M. - Losing My Religion (Official HD Music Video): 1.0000\n",
      "  The Police - Every Breath You Take (Official Music Video): 0.9889\n",
      "  Jeremih - Down On Me ft. 50 Cent: 0.9970\n",
      "  Dimitri Vegas & Like Mike & W&W & Marnik – Yeah (Official Music Video): 0.9948\n",
      "  Avicii - AVICII FOREVER (360° Visualizer): 1.0000\n",
      "  Morgan Wallen - Lies Lies Lies (Lyric Video): 0.9981\n",
      "  Metallica： Enter Sandman (Official Music Video): 0.9983\n",
      "  Miley Cyrus - Flowers (Official Lyric Video): 1.0000\n",
      "  Bon Jovi - Livin' On A Prayer: 1.0000\n",
      "  Black Sabbath - Paranoid (Official Audio): 1.0000\n",
      "  Wet Bed Gang - Perseus (Vídeo Oficial) Prod. Charlie Beats: 0.9886\n",
      "\n",
      "Top 5 candidates:\n",
      "1. Cody Johnson - 'Til You Can't (Official Music Video) - NCD: 0.9686\n",
      "2. Gracie Abrams - That's So True (Clean - Lyrics) - NCD: 0.9776\n",
      "3. jingle.tm - remix ｜ LON3R JOHNY, Richie Campbell, Plutonio, ProfJam, Van Zee, Lhast - NCD: 0.9785\n",
      "4. PEDRO SAMPAIO, ANITTA, MC GW - BOTA UM FUNK - NCD: 0.9827\n",
      "5. Anitta, Mc Zaac, Maejor feat. Tropkillaz & DJ Yuri Martins - Vai Malandra [Official Music Video] - NCD: 0.9862\n",
      "\n",
      "Identifying Cody Johnson - 'Til You Can't (Official Music Video)_segment_noisy.freq...\n",
      "Comparing demo_segments/Cody Johnson - 'Til You Can't (Official Music Video)_segment_noisy.freq with 64 database files using gzip...\n",
      "  Martin Garrix & Arijit Singh - Angels For Each Other (Official Video): 1.0000\n",
      "  MC Levin e DJ Gege - Sua Amiga Eu Vou Sarrar (kondzilla.com): 1.0000\n",
      "  Dennis e Kevin O Chris - TÁ OK (Clipe Oficial): 0.9893\n",
      "  MC Kevinho - Olha a Explosão (KondZilla) ｜ Official Music Video: 0.9890\n",
      "  Galantis - No Money (Official Video): 0.9968\n",
      "  Alex Warren - Ordinary (Official Video): 1.0000\n",
      "  FRANKIEONTHEGUITAR ft. IVANDRO, SLOW J ~ Imagina: 1.0000\n",
      "  That's Life (2008 Remastered): 1.0000\n",
      "  Luke Combs - One Number Away: 1.0000\n",
      "  AC⧸DC - Thunderstruck (Official Video): 1.0000\n",
      "  Lady Gaga, Bruno Mars - Die With A Smile (Official Music Video): 0.9941\n",
      "  In The End [Official HD Music Video] - Linkin Park: 0.9859\n",
      "  Morgan Wallen - Love Somebody (Lyric Video): 0.9868\n",
      "  Louis Armstrong - What A Wonderful World (At The BBC): 0.9897\n",
      "  David Guetta & Sia - Beautiful People (Official Video): 0.9947\n",
      "  Jelly Roll - Liar (Official Music Video): 0.9908\n",
      "  MC L Da Vinte e MC Gury - Parado no Bailão  (Funk Explode): 0.9949\n",
      "  Mike Posner - I Took A Pill In Ibiza (Seeb Remix) (Explicit): 0.9923\n",
      "  Metallica - One: 0.9994\n",
      "  Sabrina Carpenter - Espresso (Clean): 1.0000\n",
      "  Dave Brubeck - Take Five: 1.0000\n",
      "  So What - Miles Davis (1959): 0.9984\n",
      "  ROSÉ & Bruno Mars - APT. (Official Music Video): 0.9889\n",
      "  Koe Wetzel, Jessie Murph - High Road (Official Video): 0.9878\n",
      "  mgk - cliché (Official Music Video): 0.9998\n",
      "  Slipknot - Wait And Bleed [OFFICIAL VIDEO] [HD]: 1.0000\n",
      "  Motörhead – Ace Of Spades (Official Video): 1.0000\n",
      "  Steppenwolf - Born To Be Wild: 1.0000\n",
      "  jingle.tm - remix ｜ LON3R JOHNY, Richie Campbell, Plutonio, ProfJam, Van Zee, Lhast: 0.9777\n",
      "  David Guetta - Bang My Head (Official Video) feat Sia & Fetty Wap: 0.9917\n",
      "  Stand By Me: 1.0000\n",
      "  Benson Boone - Beautiful Things (Official Music Video): 0.9987\n",
      "  Cody Johnson - 'Til You Can't (Official Music Video): 0.9710\n",
      "  LON3R JOHNY × PLUTONIO - UH LA LA LA: 1.0000\n",
      "  Anitta, Mc Zaac, Maejor feat. Tropkillaz & DJ Yuri Martins - Vai Malandra [Official Music Video]: 0.9843\n",
      "  Sade - Smooth Operator - Official - 1984: 1.0000\n",
      "  Fly Me To The Moon (2008 Remastered): 0.9927\n",
      "  MC Fioti - Bum Bum Tam Tam (KondZilla) ｜ Official Music Video: 1.0000\n",
      "  T.I. - Whatever You Like (Official Video): 0.9927\n",
      "  Queen - We Will Rock You (Official Video): 0.9990\n",
      "  Gracie Abrams - That's So True (Clean - Lyrics): 0.9767\n",
      "  Miles Davis - Freddie Freeloader (Official Audio): 0.9967\n",
      "  Luke Combs - When It Rains It Pours (Official Video): 0.9900\n",
      "  Megadeth - Holy Wars...The Punishment Due: 0.9972\n",
      "  Beyoncé - Drunk in Love (Explicit) ft. JAY Z: 0.9940\n",
      "  Guns N' Roses - Sweet Child O' Mine (Official Music Video): 0.9887\n",
      "  David Guetta, Alphaville & Ava Max - Forever Young (Official Music Video): 1.0000\n",
      "  PEDRO SAMPAIO, ANITTA, MC GW - BOTA UM FUNK: 0.9808\n",
      "  Metallica-Master Of Puppets (Lyrics): 0.9998\n",
      "  Nirvana - Smells Like Teen Spirit (Official Music Video): 0.9923\n",
      "  FRANKIEONTHEGUITAR ft. T-Rex, LON3R JOHNY, BISPO ~ Tempo (Visualizer): 1.0000\n",
      "  Post Malone - I Had Some Help (feat. Morgan Wallen) (Official Video): 0.9993\n",
      "  MÃE SOLTEIRA - MC Davi, J.Eskine, MC G15, DG e Batidão Stronda: 0.9934\n",
      "  R.E.M. - Losing My Religion (Official HD Music Video): 0.9999\n",
      "  The Police - Every Breath You Take (Official Music Video): 0.9868\n",
      "  Jeremih - Down On Me ft. 50 Cent: 0.9960\n",
      "  Dimitri Vegas & Like Mike & W&W & Marnik – Yeah (Official Music Video): 0.9930\n",
      "  Avicii - AVICII FOREVER (360° Visualizer): 1.0000\n",
      "  Morgan Wallen - Lies Lies Lies (Lyric Video): 0.9973\n",
      "  Metallica： Enter Sandman (Official Music Video): 0.9970\n",
      "  Miley Cyrus - Flowers (Official Lyric Video): 0.9997\n",
      "  Bon Jovi - Livin' On A Prayer: 1.0000\n",
      "  Black Sabbath - Paranoid (Official Audio): 1.0000\n",
      "  Wet Bed Gang - Perseus (Vídeo Oficial) Prod. Charlie Beats: 0.9877\n",
      "\n",
      "Top 5 candidates:\n",
      "1. Cody Johnson - 'Til You Can't (Official Music Video) - NCD: 0.9710\n",
      "2. Gracie Abrams - That's So True (Clean - Lyrics) - NCD: 0.9767\n",
      "3. jingle.tm - remix ｜ LON3R JOHNY, Richie Campbell, Plutonio, ProfJam, Van Zee, Lhast - NCD: 0.9777\n",
      "4. PEDRO SAMPAIO, ANITTA, MC GW - BOTA UM FUNK - NCD: 0.9808\n",
      "5. Anitta, Mc Zaac, Maejor feat. Tropkillaz & DJ Yuri Martins - Vai Malandra [Official Music Video] - NCD: 0.9843\n"
     ]
    }
   ],
   "source": [
    "compressor = \"gzip\" \n",
    "\n",
    "segment_files = glob.glob(os.path.join(SEGMENT_PATH, \"*.freq\"))\n",
    "\n",
    "print(\"Identifying music segments...\")\n",
    "for segment_file in segment_files:\n",
    "    segment_name = os.path.basename(segment_file)\n",
    "    print(f\"\\nIdentifying {segment_name}...\")\n",
    "    subprocess.run([\"python\", \"main.py\", \"compare\", segment_file, \"-c\", compressor, \"-n\", \"5\"])"
   ]
  }
 ],
 "metadata": {
  "kernelspec": {
   "display_name": "venv",
   "language": "python",
   "name": "python3"
  },
  "language_info": {
   "codemirror_mode": {
    "name": "ipython",
    "version": 3
   },
   "file_extension": ".py",
   "mimetype": "text/x-python",
   "name": "python",
   "nbconvert_exporter": "python",
   "pygments_lexer": "ipython3",
   "version": "3.12.11"
  }
 },
 "nbformat": 4,
 "nbformat_minor": 2
}
