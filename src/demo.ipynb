{
 "cells": [
  {
   "cell_type": "markdown",
   "metadata": {},
   "source": [
    "# Definitions"
   ]
  },
  {
   "cell_type": "code",
   "execution_count": 53,
   "metadata": {},
   "outputs": [],
   "source": [
    "import os\n",
    "import subprocess\n",
    "import glob\n",
    "\n",
    "DB_PATH = \"database\"\n",
    "MUSICS_PATH = \"demo_music\"\n",
    "SEGMENT_PATH = \"demo_segments\"\n"
   ]
  },
  {
   "cell_type": "markdown",
   "metadata": {},
   "source": [
    "### Convert all music files to frequency representations"
   ]
  },
  {
   "cell_type": "code",
   "execution_count": 54,
   "metadata": {},
   "outputs": [
    {
     "name": "stdout",
     "output_type": "stream",
     "text": [
      "Processing Avicii - AVICII FOREVER (360° Visualizer).wav...\n",
      "✅ Successfully processed 1/1 files\n"
     ]
    }
   ],
   "source": [
    "!python main.py process_db {MUSICS_PATH}\n",
    "\n",
    "# move .wav files to directory database\n",
    "for file in glob.glob(os.path.join(MUSICS_PATH, \"*.freq\")):\n",
    "    subprocess.run([\"mv\", file, DB_PATH])"
   ]
  },
  {
   "cell_type": "markdown",
   "metadata": {},
   "source": [
    "### [Optional] Extract segments from a song"
   ]
  },
  {
   "cell_type": "code",
   "execution_count": 55,
   "metadata": {},
   "outputs": [
    {
     "name": "stdout",
     "output_type": "stream",
     "text": [
      "Extracted 10.0s segment to demo_segments/Avicii - AVICII FOREVER (360° Visualizer)_segment.wav\n"
     ]
    }
   ],
   "source": [
    "musics = [music for music in os.listdir(MUSICS_PATH) if music.endswith('.wav')]\n",
    "\n",
    "# extract segments from each music\n",
    "for music in musics:\n",
    "    input_file = os.path.join(MUSICS_PATH, music)\n",
    "    output_file = os.path.join(SEGMENT_PATH, f\"{music.split('.')[0]}_segment.wav\")\n",
    "    subprocess.run([\"python\", \"main.py\", \"extract\", input_file, \"-d\", \"10\", \"-o\", output_file])"
   ]
  },
  {
   "cell_type": "markdown",
   "metadata": {},
   "source": [
    "### [Optional] Adding noise to music segments"
   ]
  },
  {
   "cell_type": "code",
   "execution_count": 56,
   "metadata": {},
   "outputs": [
    {
     "name": "stdout",
     "output_type": "stream",
     "text": [
      "['Avicii - AVICII FOREVER (360° Visualizer)_segment.wav']\n",
      "Added whitenoise (level 0.4) to demo_segments/Avicii - AVICII FOREVER (360° Visualizer)_segment.wav using librosa, saved as demo_segments/Avicii - AVICII FOREVER (360° Visualizer)_segment_noisy.wav\n"
     ]
    }
   ],
   "source": [
    "musics = [music for music in os.listdir(SEGMENT_PATH) if music.endswith('.wav')]\n",
    "\n",
    "print(musics)\n",
    "\n",
    "noise_type = \"whitenoise\"\n",
    "noise_level = \"0.4\"\n",
    "\n",
    "for music in musics:\n",
    "    input_file = os.path.join(SEGMENT_PATH, music)\n",
    "    output_file = os.path.join(SEGMENT_PATH, f\"{music.split('.')[0]}_noisy.wav\")\n",
    "    subprocess.run([\"python\", \"main.py\", \"noise\", input_file, \"--type\", noise_type, \"--level\", noise_level, \"-o\", output_file])"
   ]
  },
  {
   "cell_type": "markdown",
   "metadata": {},
   "source": [
    "### Convert music segments to frequency representations"
   ]
  },
  {
   "cell_type": "code",
   "execution_count": 57,
   "metadata": {},
   "outputs": [
    {
     "name": "stdout",
     "output_type": "stream",
     "text": [
      "Converted demo_segments/Avicii - AVICII FOREVER (360° Visualizer)_segment.wav to frequency representation at demo_segments/Avicii - AVICII FOREVER (360° Visualizer)_segment.freq\n",
      "Converted demo_segments/Avicii - AVICII FOREVER (360° Visualizer)_segment_noisy.wav to frequency representation at demo_segments/Avicii - AVICII FOREVER (360° Visualizer)_segment_noisy.freq\n"
     ]
    }
   ],
   "source": [
    "musics = [music for music in os.listdir(SEGMENT_PATH) if music.endswith('.wav')]\n",
    "\n",
    "for music in musics:\n",
    "    input_file = os.path.join(SEGMENT_PATH, music)\n",
    "    output_file = os.path.join(SEGMENT_PATH, f\"{music.split('.')[0]}.freq\")\n",
    "    subprocess.run([\"python\", \"main.py\", \"convert\", input_file, \"-o\", output_file])"
   ]
  },
  {
   "cell_type": "markdown",
   "metadata": {},
   "source": [
    "### [Optional] Adding noise to music segments"
   ]
  },
  {
   "cell_type": "code",
   "execution_count": 58,
   "metadata": {},
   "outputs": [
    {
     "name": "stdout",
     "output_type": "stream",
     "text": [
      "Identifying music segments...\n",
      "\n",
      "Identifying Avicii - AVICII FOREVER (360° Visualizer)_segment.freq...\n",
      "Comparing demo_segments/Avicii - AVICII FOREVER (360° Visualizer)_segment.freq with 64 database files using gzip...\n",
      "  Martin Garrix & Arijit Singh - Angels For Each Other (Official Video): 1.0000\n",
      "  MC Levin e DJ Gege - Sua Amiga Eu Vou Sarrar (kondzilla.com): 1.0000\n",
      "  Dennis e Kevin O Chris - TÁ OK (Clipe Oficial): 0.9921\n",
      "  MC Kevinho - Olha a Explosão (KondZilla) ｜ Official Music Video: 0.9960\n",
      "  Galantis - No Money (Official Video): 0.9927\n",
      "  Alex Warren - Ordinary (Official Video): 0.9873\n",
      "  FRANKIEONTHEGUITAR ft. IVANDRO, SLOW J ~ Imagina: 1.0000\n",
      "  That's Life (2008 Remastered): 1.0000\n",
      "  Luke Combs - One Number Away: 0.9987\n",
      "  AC⧸DC - Thunderstruck (Official Video): 1.0000\n",
      "  Lady Gaga, Bruno Mars - Die With A Smile (Official Music Video): 0.9914\n",
      "  In The End [Official HD Music Video] - Linkin Park: 0.9933\n",
      "  Morgan Wallen - Love Somebody (Lyric Video): 0.9994\n",
      "  Louis Armstrong - What A Wonderful World (At The BBC): 0.9887\n",
      "  David Guetta & Sia - Beautiful People (Official Video): 0.9924\n",
      "  Jelly Roll - Liar (Official Music Video): 1.0000\n",
      "  MC L Da Vinte e MC Gury - Parado no Bailão  (Funk Explode): 0.9934\n",
      "  Mike Posner - I Took A Pill In Ibiza (Seeb Remix) (Explicit): 0.9969\n",
      "  Metallica - One: 0.9992\n",
      "  Sabrina Carpenter - Espresso (Clean): 0.9966\n",
      "  Dave Brubeck - Take Five: 1.0000\n",
      "  So What - Miles Davis (1959): 0.9986\n",
      "  ROSÉ & Bruno Mars - APT. (Official Music Video): 0.9952\n",
      "  Koe Wetzel, Jessie Murph - High Road (Official Video): 0.9939\n",
      "  mgk - cliché (Official Music Video): 0.9866\n",
      "  Slipknot - Wait And Bleed [OFFICIAL VIDEO] [HD]: 0.9961\n",
      "  Motörhead – Ace Of Spades (Official Video): 1.0000\n",
      "  Steppenwolf - Born To Be Wild: 1.0000\n",
      "  jingle.tm - remix ｜ LON3R JOHNY, Richie Campbell, Plutonio, ProfJam, Van Zee, Lhast: 0.9885\n",
      "  David Guetta - Bang My Head (Official Video) feat Sia & Fetty Wap: 0.9886\n",
      "  Stand By Me: 1.0000\n",
      "  Benson Boone - Beautiful Things (Official Music Video): 1.0000\n",
      "  Cody Johnson - 'Til You Can't (Official Music Video): 0.9907\n",
      "  LON3R JOHNY × PLUTONIO - UH LA LA LA: 1.0000\n",
      "  Anitta, Mc Zaac, Maejor feat. Tropkillaz & DJ Yuri Martins - Vai Malandra [Official Music Video]: 0.9833\n",
      "  Sade - Smooth Operator - Official - 1984: 0.9968\n",
      "  Fly Me To The Moon (2008 Remastered): 0.9889\n",
      "  MC Fioti - Bum Bum Tam Tam (KondZilla) ｜ Official Music Video: 1.0000\n",
      "  T.I. - Whatever You Like (Official Video): 0.9910\n",
      "  Queen - We Will Rock You (Official Video): 0.9951\n",
      "  Gracie Abrams - That's So True (Clean - Lyrics): 0.9915\n",
      "  Miles Davis - Freddie Freeloader (Official Audio): 0.9989\n",
      "  Luke Combs - When It Rains It Pours (Official Video): 0.9923\n",
      "  Megadeth - Holy Wars...The Punishment Due: 0.9958\n",
      "  Beyoncé - Drunk in Love (Explicit) ft. JAY Z: 0.9965\n",
      "  Guns N' Roses - Sweet Child O' Mine (Official Music Video): 0.9907\n",
      "  David Guetta, Alphaville & Ava Max - Forever Young (Official Music Video): 1.0000\n",
      "  PEDRO SAMPAIO, ANITTA, MC GW - BOTA UM FUNK: 0.9789\n",
      "  Metallica-Master Of Puppets (Lyrics): 0.9996\n",
      "  Nirvana - Smells Like Teen Spirit (Official Music Video): 0.9997\n",
      "  FRANKIEONTHEGUITAR ft. T-Rex, LON3R JOHNY, BISPO ~ Tempo (Visualizer): 1.0000\n",
      "  Post Malone - I Had Some Help (feat. Morgan Wallen) (Official Video): 0.9958\n",
      "  MÃE SOLTEIRA - MC Davi, J.Eskine, MC G15, DG e Batidão Stronda: 0.9806\n",
      "  R.E.M. - Losing My Religion (Official HD Music Video): 0.9960\n",
      "  The Police - Every Breath You Take (Official Music Video): 0.9892\n",
      "  Jeremih - Down On Me ft. 50 Cent: 0.9902\n",
      "  Dimitri Vegas & Like Mike & W&W & Marnik – Yeah (Official Music Video): 0.9924\n",
      "  Avicii - AVICII FOREVER (360° Visualizer): 0.9034\n",
      "  Morgan Wallen - Lies Lies Lies (Lyric Video): 0.9982\n",
      "  Metallica： Enter Sandman (Official Music Video): 0.9950\n",
      "  Miley Cyrus - Flowers (Official Lyric Video): 0.9961\n",
      "  Bon Jovi - Livin' On A Prayer: 0.9993\n",
      "  Black Sabbath - Paranoid (Official Audio): 1.0000\n",
      "  Wet Bed Gang - Perseus (Vídeo Oficial) Prod. Charlie Beats: 0.9879\n",
      "\n",
      "Top 5 candidates:\n",
      "1. Avicii - AVICII FOREVER (360° Visualizer) - NCD: 0.9034\n",
      "2. PEDRO SAMPAIO, ANITTA, MC GW - BOTA UM FUNK - NCD: 0.9789\n",
      "3. MÃE SOLTEIRA - MC Davi, J.Eskine, MC G15, DG e Batidão Stronda - NCD: 0.9806\n",
      "4. Anitta, Mc Zaac, Maejor feat. Tropkillaz & DJ Yuri Martins - Vai Malandra [Official Music Video] - NCD: 0.9833\n",
      "5. mgk - cliché (Official Music Video) - NCD: 0.9866\n",
      "\n",
      "Identifying Avicii - AVICII FOREVER (360° Visualizer)_segment_noisy.freq...\n",
      "Comparing demo_segments/Avicii - AVICII FOREVER (360° Visualizer)_segment_noisy.freq with 64 database files using gzip...\n",
      "  Martin Garrix & Arijit Singh - Angels For Each Other (Official Video): 1.0000\n",
      "  MC Levin e DJ Gege - Sua Amiga Eu Vou Sarrar (kondzilla.com): 1.0000\n",
      "  Dennis e Kevin O Chris - TÁ OK (Clipe Oficial): 0.9913\n",
      "  MC Kevinho - Olha a Explosão (KondZilla) ｜ Official Music Video: 0.9948\n",
      "  Galantis - No Money (Official Video): 0.9924\n",
      "  Alex Warren - Ordinary (Official Video): 0.9864\n",
      "  FRANKIEONTHEGUITAR ft. IVANDRO, SLOW J ~ Imagina: 1.0000\n",
      "  That's Life (2008 Remastered): 1.0000\n",
      "  Luke Combs - One Number Away: 0.9983\n",
      "  AC⧸DC - Thunderstruck (Official Video): 1.0000\n",
      "  Lady Gaga, Bruno Mars - Die With A Smile (Official Music Video): 0.9911\n",
      "  In The End [Official HD Music Video] - Linkin Park: 0.9924\n",
      "  Morgan Wallen - Love Somebody (Lyric Video): 0.9980\n",
      "  Louis Armstrong - What A Wonderful World (At The BBC): 0.9880\n",
      "  David Guetta & Sia - Beautiful People (Official Video): 0.9914\n",
      "  Jelly Roll - Liar (Official Music Video): 0.9991\n",
      "  MC L Da Vinte e MC Gury - Parado no Bailão  (Funk Explode): 0.9919\n",
      "  Mike Posner - I Took A Pill In Ibiza (Seeb Remix) (Explicit): 0.9967\n",
      "  Metallica - One: 0.9991\n",
      "  Sabrina Carpenter - Espresso (Clean): 0.9959\n",
      "  Dave Brubeck - Take Five: 1.0000\n",
      "  So What - Miles Davis (1959): 0.9979\n",
      "  ROSÉ & Bruno Mars - APT. (Official Music Video): 0.9932\n",
      "  Koe Wetzel, Jessie Murph - High Road (Official Video): 0.9934\n",
      "  mgk - cliché (Official Music Video): 0.9859\n",
      "  Slipknot - Wait And Bleed [OFFICIAL VIDEO] [HD]: 0.9943\n",
      "  Motörhead – Ace Of Spades (Official Video): 1.0000\n",
      "  Steppenwolf - Born To Be Wild: 1.0000\n",
      "  jingle.tm - remix ｜ LON3R JOHNY, Richie Campbell, Plutonio, ProfJam, Van Zee, Lhast: 0.9875\n",
      "  David Guetta - Bang My Head (Official Video) feat Sia & Fetty Wap: 0.9868\n",
      "  Stand By Me: 1.0000\n",
      "  Benson Boone - Beautiful Things (Official Music Video): 1.0000\n",
      "  Cody Johnson - 'Til You Can't (Official Music Video): 0.9898\n",
      "  LON3R JOHNY × PLUTONIO - UH LA LA LA: 1.0000\n",
      "  Anitta, Mc Zaac, Maejor feat. Tropkillaz & DJ Yuri Martins - Vai Malandra [Official Music Video]: 0.9821\n",
      "  Sade - Smooth Operator - Official - 1984: 0.9966\n",
      "  Fly Me To The Moon (2008 Remastered): 0.9887\n",
      "  MC Fioti - Bum Bum Tam Tam (KondZilla) ｜ Official Music Video: 1.0000\n",
      "  T.I. - Whatever You Like (Official Video): 0.9910\n",
      "  Queen - We Will Rock You (Official Video): 0.9933\n",
      "  Gracie Abrams - That's So True (Clean - Lyrics): 0.9896\n",
      "  Miles Davis - Freddie Freeloader (Official Audio): 0.9984\n",
      "  Luke Combs - When It Rains It Pours (Official Video): 0.9920\n",
      "  Megadeth - Holy Wars...The Punishment Due: 0.9956\n",
      "  Beyoncé - Drunk in Love (Explicit) ft. JAY Z: 0.9965\n",
      "  Guns N' Roses - Sweet Child O' Mine (Official Music Video): 0.9900\n",
      "  David Guetta, Alphaville & Ava Max - Forever Young (Official Music Video): 0.9992\n",
      "  PEDRO SAMPAIO, ANITTA, MC GW - BOTA UM FUNK: 0.9792\n",
      "  Metallica-Master Of Puppets (Lyrics): 0.9992\n",
      "  Nirvana - Smells Like Teen Spirit (Official Music Video): 0.9987\n",
      "  FRANKIEONTHEGUITAR ft. T-Rex, LON3R JOHNY, BISPO ~ Tempo (Visualizer): 1.0000\n",
      "  Post Malone - I Had Some Help (feat. Morgan Wallen) (Official Video): 0.9947\n",
      "  MÃE SOLTEIRA - MC Davi, J.Eskine, MC G15, DG e Batidão Stronda: 0.9798\n",
      "  R.E.M. - Losing My Religion (Official HD Music Video): 0.9959\n",
      "  The Police - Every Breath You Take (Official Music Video): 0.9895\n",
      "  Jeremih - Down On Me ft. 50 Cent: 0.9897\n",
      "  Dimitri Vegas & Like Mike & W&W & Marnik – Yeah (Official Music Video): 0.9909\n",
      "  Avicii - AVICII FOREVER (360° Visualizer): 0.9253\n",
      "  Morgan Wallen - Lies Lies Lies (Lyric Video): 0.9967\n",
      "  Metallica： Enter Sandman (Official Music Video): 0.9950\n",
      "  Miley Cyrus - Flowers (Official Lyric Video): 0.9960\n",
      "  Bon Jovi - Livin' On A Prayer: 0.9983\n",
      "  Black Sabbath - Paranoid (Official Audio): 1.0000\n",
      "  Wet Bed Gang - Perseus (Vídeo Oficial) Prod. Charlie Beats: 0.9876\n",
      "\n",
      "Top 5 candidates:\n",
      "1. Avicii - AVICII FOREVER (360° Visualizer) - NCD: 0.9253\n",
      "2. PEDRO SAMPAIO, ANITTA, MC GW - BOTA UM FUNK - NCD: 0.9792\n",
      "3. MÃE SOLTEIRA - MC Davi, J.Eskine, MC G15, DG e Batidão Stronda - NCD: 0.9798\n",
      "4. Anitta, Mc Zaac, Maejor feat. Tropkillaz & DJ Yuri Martins - Vai Malandra [Official Music Video] - NCD: 0.9821\n",
      "5. mgk - cliché (Official Music Video) - NCD: 0.9859\n"
     ]
    }
   ],
   "source": [
    "compressor = \"gzip\" \n",
    "\n",
    "segment_files = glob.glob(os.path.join(SEGMENT_PATH, \"*.freq\"))\n",
    "\n",
    "print(\"Identifying music segments...\")\n",
    "for segment_file in segment_files:\n",
    "    segment_name = os.path.basename(segment_file)\n",
    "    print(f\"\\nIdentifying {segment_name}...\")\n",
    "    subprocess.run([\"python\", \"main.py\", \"compare\", segment_file, \"-c\", compressor, \"-n\", \"5\"])"
   ]
  }
 ],
 "metadata": {
  "kernelspec": {
   "display_name": "venv",
   "language": "python",
   "name": "python3"
  },
  "language_info": {
   "codemirror_mode": {
    "name": "ipython",
    "version": 3
   },
   "file_extension": ".py",
   "mimetype": "text/x-python",
   "name": "python",
   "nbconvert_exporter": "python",
   "pygments_lexer": "ipython3",
   "version": "3.12.11"
  }
 },
 "nbformat": 4,
 "nbformat_minor": 2
}
