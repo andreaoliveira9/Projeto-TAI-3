{
 "cells": [
  {
   "cell_type": "markdown",
   "metadata": {},
   "source": [
    "# Definitions"
   ]
  },
  {
   "cell_type": "code",
   "execution_count": 29,
   "metadata": {},
   "outputs": [],
   "source": [
    "DB_PATH = \"database\"\n",
    "SEGMENT_PATH = \"segments\"\n"
   ]
  },
  {
   "cell_type": "markdown",
   "metadata": {},
   "source": [
    "### Convert all music files to frequency representations"
   ]
  },
  {
   "cell_type": "code",
   "execution_count": 30,
   "metadata": {},
   "outputs": [
    {
     "name": "stdout",
     "output_type": "stream",
     "text": [
      "Processing MACCHIATO.wav...\n",
      "Processing notlikeus.wav...\n",
      "Processing Mozart - Requiem - Sanctus - Herreweghe.wav...\n",
      "Processing Ultravox - All Stood Still.wav...\n",
      "Processing Rainbow - I Surrender.wav...\n",
      "Processing lalala.wav...\n",
      "Processing Metallica： The Memory Remains (Official Music Video).wav...\n",
      "Processing Vangelis - Spiral (Audio).wav...\n",
      "Processing Beethoven 5th Symphony in C Minor Op.67- Herbert Von Karajan (1080 60fps).wav...\n",
      "Processing Carlos Paredes - Canção Verdes Anos [Official Audio].wav...\n",
      "Processing wewillrockyou.wav...\n",
      "✅ Successfully processed 11/11 files\n"
     ]
    }
   ],
   "source": [
    "!python main.py process_db {DB_PATH}"
   ]
  },
  {
   "cell_type": "markdown",
   "metadata": {},
   "source": [
    "### [Optional] Extract segments from a song"
   ]
  },
  {
   "cell_type": "code",
   "execution_count": 25,
   "metadata": {},
   "outputs": [
    {
     "name": "stdout",
     "output_type": "stream",
     "text": [
      "['Mozart - Requiem - Sanctus - Herreweghe.wav', 'Ultravox - All Stood Still.wav', 'Rainbow - I Surrender.wav', 'Metallica： The Memory Remains (Official Music Video).wav', 'Vangelis - Spiral (Audio).wav', 'Beethoven 5th Symphony in C Minor Op.67- Herbert Von Karajan (1080 60fps).wav', 'Carlos Paredes - Canção Verdes Anos [Official Audio].wav']\n",
      "Extracted 10.0s segment to segments/Mozart - Requiem - Sanctus - Herreweghe_segment.wav\n",
      "Extracted 10.0s segment to segments/Ultravox - All Stood Still_segment.wav\n",
      "Extracted 10.0s segment to segments/Rainbow - I Surrender_segment.wav\n",
      "Extracted 10.0s segment to segments/Metallica： The Memory Remains (Official Music Video)_segment.wav\n",
      "Extracted 10.0s segment to segments/Vangelis - Spiral (Audio)_segment.wav\n",
      "Extracted 10.0s segment to segments/Beethoven 5th Symphony in C Minor Op_segment.wav\n",
      "Extracted 10.0s segment to segments/Carlos Paredes - Canção Verdes Anos [Official Audio]_segment.wav\n"
     ]
    }
   ],
   "source": [
    "import os\n",
    "import subprocess\n",
    "\n",
    "musics = [music for music in os.listdir(DB_PATH) if music.endswith('.wav')]\n",
    "\n",
    "print(musics)\n",
    "# extract segments from each music\n",
    "for music in musics:\n",
    "    input_file = os.path.join(DB_PATH, music)\n",
    "    output_file = os.path.join(SEGMENT_PATH, f\"{music.split('.')[0]}_segment.wav\")\n",
    "    subprocess.run([\"python\", \"main.py\", \"extract\", input_file, \"-d\", \"10\", \"-o\", output_file])"
   ]
  },
  {
   "cell_type": "markdown",
   "metadata": {},
   "source": [
    "### Convert music segments to frequency representations"
   ]
  },
  {
   "cell_type": "code",
   "execution_count": 31,
   "metadata": {},
   "outputs": [
    {
     "name": "stdout",
     "output_type": "stream",
     "text": [
      "['sample04.wav', 'sample01.wav', 'sample02.wav', 'sample07.wav', 'sample03.wav', 'sample05.wav', 'sample06.wav']\n",
      "Converted segments/sample04.wav to frequency representation at segments/sample04.freq\n",
      "Converted segments/sample01.wav to frequency representation at segments/sample01.freq\n",
      "Converted segments/sample02.wav to frequency representation at segments/sample02.freq\n",
      "Converted segments/sample07.wav to frequency representation at segments/sample07.freq\n",
      "Converted segments/sample03.wav to frequency representation at segments/sample03.freq\n",
      "Converted segments/sample05.wav to frequency representation at segments/sample05.freq\n",
      "Converted segments/sample06.wav to frequency representation at segments/sample06.freq\n"
     ]
    }
   ],
   "source": [
    "import os\n",
    "import subprocess\n",
    "\n",
    "musics = [music for music in os.listdir(SEGMENT_PATH) if music.endswith('.wav')]\n",
    "\n",
    "print(musics)\n",
    "# extract segments from each music\n",
    "for music in musics:\n",
    "    input_file = os.path.join(SEGMENT_PATH, music)\n",
    "    output_file = os.path.join(SEGMENT_PATH, f\"{music.split('.')[0]}.freq\")\n",
    "    subprocess.run([\"python\", \"main.py\", \"convert\", input_file, \"-o\", output_file])"
   ]
  },
  {
   "cell_type": "markdown",
   "metadata": {},
   "source": [
    "### [Optional] Adding noise to music segments"
   ]
  },
  {
   "cell_type": "code",
   "execution_count": null,
   "metadata": {},
   "outputs": [],
   "source": []
  },
  {
   "cell_type": "markdown",
   "metadata": {},
   "source": [
    "### Identifying music"
   ]
  },
  {
   "cell_type": "code",
   "execution_count": 32,
   "metadata": {},
   "outputs": [
    {
     "name": "stdout",
     "output_type": "stream",
     "text": [
      "Identifying music segments...\n",
      "Identifying sample03.freq...\n",
      "Comparing segments/sample03.freq with 11 database files using gzip...\n",
      "  MACCHIATO: 1.0000\n",
      "  wewillrockyou: 1.0000\n",
      "  notlikeus: 1.0000\n",
      "  Mozart - Requiem - Sanctus - Herreweghe: 1.0000\n",
      "  Ultravox - All Stood Still: 0.9673\n",
      "  lalala: 1.0000\n",
      "  Vangelis - Spiral (Audio): 1.0000\n",
      "  Carlos Paredes - Canção Verdes Anos [Official Audio]: 1.0000\n",
      "  Beethoven 5th Symphony in C Minor Op.67- Herbert Von Karajan (1080 60fps): 1.0000\n",
      "  Rainbow - I Surrender: 1.0000\n",
      "  Metallica： The Memory Remains (Official Music Video): 1.0000\n",
      "\n",
      "Top 5 candidates:\n",
      "1. Ultravox - All Stood Still - NCD: 0.9673\n",
      "2. MACCHIATO - NCD: 1.0000\n",
      "3. wewillrockyou - NCD: 1.0000\n",
      "4. notlikeus - NCD: 1.0000\n",
      "5. Mozart - Requiem - Sanctus - Herreweghe - NCD: 1.0000\n",
      "Identifying sample02.freq...\n",
      "Comparing segments/sample02.freq with 11 database files using gzip...\n",
      "  MACCHIATO: 1.0000\n",
      "  wewillrockyou: 1.0000\n",
      "  notlikeus: 1.0000\n",
      "  Mozart - Requiem - Sanctus - Herreweghe: 1.0000\n",
      "  Ultravox - All Stood Still: 1.0000\n",
      "  lalala: 1.0000\n",
      "  Vangelis - Spiral (Audio): 1.0000\n",
      "  Carlos Paredes - Canção Verdes Anos [Official Audio]: 0.9379\n",
      "  Beethoven 5th Symphony in C Minor Op.67- Herbert Von Karajan (1080 60fps): 0.9995\n",
      "  Rainbow - I Surrender: 1.0000\n",
      "  Metallica： The Memory Remains (Official Music Video): 1.0000\n",
      "\n",
      "Top 5 candidates:\n",
      "1. Carlos Paredes - Canção Verdes Anos [Official Audio] - NCD: 0.9379\n",
      "2. Beethoven 5th Symphony in C Minor Op.67- Herbert Von Karajan (1080 60fps) - NCD: 0.9995\n",
      "3. MACCHIATO - NCD: 1.0000\n",
      "4. wewillrockyou - NCD: 1.0000\n",
      "5. notlikeus - NCD: 1.0000\n",
      "Identifying sample06.freq...\n",
      "Comparing segments/sample06.freq with 11 database files using gzip...\n",
      "  MACCHIATO: 1.0000\n",
      "  wewillrockyou: 1.0000\n",
      "  notlikeus: 1.0000\n",
      "  Mozart - Requiem - Sanctus - Herreweghe: 1.0000\n",
      "  Ultravox - All Stood Still: 1.0000\n",
      "  lalala: 1.0000\n",
      "  Vangelis - Spiral (Audio): 0.9747\n",
      "  Carlos Paredes - Canção Verdes Anos [Official Audio]: 1.0000\n",
      "  Beethoven 5th Symphony in C Minor Op.67- Herbert Von Karajan (1080 60fps): 1.0000\n",
      "  Rainbow - I Surrender: 1.0000\n",
      "  Metallica： The Memory Remains (Official Music Video): 1.0000\n",
      "\n",
      "Top 5 candidates:\n",
      "1. Vangelis - Spiral (Audio) - NCD: 0.9747\n",
      "2. MACCHIATO - NCD: 1.0000\n",
      "3. wewillrockyou - NCD: 1.0000\n",
      "4. notlikeus - NCD: 1.0000\n",
      "5. Mozart - Requiem - Sanctus - Herreweghe - NCD: 1.0000\n",
      "Identifying sample05.freq...\n",
      "Comparing segments/sample05.freq with 11 database files using gzip...\n",
      "  MACCHIATO: 1.0000\n",
      "  wewillrockyou: 1.0000\n",
      "  notlikeus: 1.0000\n",
      "  Mozart - Requiem - Sanctus - Herreweghe: 1.0000\n",
      "  Ultravox - All Stood Still: 1.0000\n",
      "  lalala: 1.0000\n",
      "  Vangelis - Spiral (Audio): 1.0000\n",
      "  Carlos Paredes - Canção Verdes Anos [Official Audio]: 1.0000\n",
      "  Beethoven 5th Symphony in C Minor Op.67- Herbert Von Karajan (1080 60fps): 1.0000\n",
      "  Rainbow - I Surrender: 1.0000\n",
      "  Metallica： The Memory Remains (Official Music Video): 1.0000\n",
      "\n",
      "Top 5 candidates:\n",
      "1. MACCHIATO - NCD: 1.0000\n",
      "2. wewillrockyou - NCD: 1.0000\n",
      "3. notlikeus - NCD: 1.0000\n",
      "4. Mozart - Requiem - Sanctus - Herreweghe - NCD: 1.0000\n",
      "5. Ultravox - All Stood Still - NCD: 1.0000\n",
      "Identifying sample07.freq...\n",
      "Comparing segments/sample07.freq with 11 database files using gzip...\n",
      "  MACCHIATO: 1.0000\n",
      "  wewillrockyou: 1.0000\n",
      "  notlikeus: 1.0000\n",
      "  Mozart - Requiem - Sanctus - Herreweghe: 1.0000\n",
      "  Ultravox - All Stood Still: 1.0000\n",
      "  lalala: 1.0000\n",
      "  Vangelis - Spiral (Audio): 1.0000\n",
      "  Carlos Paredes - Canção Verdes Anos [Official Audio]: 1.0000\n",
      "  Beethoven 5th Symphony in C Minor Op.67- Herbert Von Karajan (1080 60fps): 1.0000\n",
      "  Rainbow - I Surrender: 1.0000\n",
      "  Metallica： The Memory Remains (Official Music Video): 0.9494\n",
      "\n",
      "Top 5 candidates:\n",
      "1. Metallica： The Memory Remains (Official Music Video) - NCD: 0.9494\n",
      "2. MACCHIATO - NCD: 1.0000\n",
      "3. wewillrockyou - NCD: 1.0000\n",
      "4. notlikeus - NCD: 1.0000\n",
      "5. Mozart - Requiem - Sanctus - Herreweghe - NCD: 1.0000\n",
      "Identifying sample04.freq...\n",
      "Comparing segments/sample04.freq with 11 database files using gzip...\n",
      "  MACCHIATO: 1.0000\n",
      "  wewillrockyou: 1.0000\n",
      "  notlikeus: 1.0000\n",
      "  Mozart - Requiem - Sanctus - Herreweghe: 1.0000\n",
      "  Ultravox - All Stood Still: 1.0000\n",
      "  lalala: 1.0000\n",
      "  Vangelis - Spiral (Audio): 1.0000\n",
      "  Carlos Paredes - Canção Verdes Anos [Official Audio]: 1.0000\n",
      "  Beethoven 5th Symphony in C Minor Op.67- Herbert Von Karajan (1080 60fps): 1.0000\n",
      "  Rainbow - I Surrender: 1.0000\n",
      "  Metallica： The Memory Remains (Official Music Video): 1.0000\n",
      "\n",
      "Top 5 candidates:\n",
      "1. MACCHIATO - NCD: 1.0000\n",
      "2. wewillrockyou - NCD: 1.0000\n",
      "3. notlikeus - NCD: 1.0000\n",
      "4. Mozart - Requiem - Sanctus - Herreweghe - NCD: 1.0000\n",
      "5. Ultravox - All Stood Still - NCD: 1.0000\n",
      "Identifying sample01.freq...\n",
      "Comparing segments/sample01.freq with 11 database files using gzip...\n",
      "  MACCHIATO: 1.0000\n",
      "  wewillrockyou: 1.0000\n",
      "  notlikeus: 1.0000\n",
      "  Mozart - Requiem - Sanctus - Herreweghe: 1.0000\n",
      "  Ultravox - All Stood Still: 1.0000\n",
      "  lalala: 1.0000\n",
      "  Vangelis - Spiral (Audio): 1.0000\n",
      "  Carlos Paredes - Canção Verdes Anos [Official Audio]: 1.0000\n",
      "  Beethoven 5th Symphony in C Minor Op.67- Herbert Von Karajan (1080 60fps): 1.0000\n",
      "  Rainbow - I Surrender: 1.0000\n",
      "  Metallica： The Memory Remains (Official Music Video): 1.0000\n",
      "\n",
      "Top 5 candidates:\n",
      "1. MACCHIATO - NCD: 1.0000\n",
      "2. wewillrockyou - NCD: 1.0000\n",
      "3. notlikeus - NCD: 1.0000\n",
      "4. Mozart - Requiem - Sanctus - Herreweghe - NCD: 1.0000\n",
      "5. Ultravox - All Stood Still - NCD: 1.0000\n"
     ]
    }
   ],
   "source": [
    "import os\n",
    "import subprocess\n",
    "import glob\n",
    "\n",
    "# Get all segment frequency files\n",
    "segment_files = glob.glob(os.path.join(SEGMENT_PATH, \"*.freq\"))\n",
    "\n",
    "print(\"Identifying music segments...\")\n",
    "for segment_file in segment_files:\n",
    "    segment_name = os.path.basename(segment_file)\n",
    "    print(f\"Identifying {segment_name}...\")\n",
    "    subprocess.run([\"python\", \"main.py\", \"compare\", segment_file, \"-c\", \"gzip\", \"-n\", \"5\"])"
   ]
  },
  {
   "cell_type": "markdown",
   "metadata": {},
   "source": [
    "## Clean Workspace"
   ]
  },
  {
   "cell_type": "code",
   "execution_count": 33,
   "metadata": {},
   "outputs": [],
   "source": [
    "## script that enters all directories and deletes .freq files\n",
    "import os\n",
    "\n",
    "for root, dirs, files in os.walk(\".\"):\n",
    "    for file in files:\n",
    "        if file.endswith(\".freq\"):\n",
    "            os.remove(os.path.join(root, file))\n",
    "    "
   ]
  }
 ],
 "metadata": {
  "kernelspec": {
   "display_name": "venv",
   "language": "python",
   "name": "python3"
  },
  "language_info": {
   "codemirror_mode": {
    "name": "ipython",
    "version": 3
   },
   "file_extension": ".py",
   "mimetype": "text/x-python",
   "name": "python",
   "nbconvert_exporter": "python",
   "pygments_lexer": "ipython3",
   "version": "3.10.12"
  }
 },
 "nbformat": 4,
 "nbformat_minor": 2
}
